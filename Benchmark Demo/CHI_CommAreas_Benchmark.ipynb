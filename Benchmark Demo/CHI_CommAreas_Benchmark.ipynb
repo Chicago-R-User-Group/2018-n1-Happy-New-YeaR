{
 "cells": [
  {
   "cell_type": "code",
   "execution_count": 1,
   "metadata": {},
   "outputs": [],
   "source": [
    "library(microbenchmark)"
   ]
  },
  {
   "cell_type": "markdown",
   "metadata": {},
   "source": [
    "## Source Functions"
   ]
  },
  {
   "cell_type": "code",
   "execution_count": 2,
   "metadata": {},
   "outputs": [],
   "source": [
    "setwd('/path/to/working/directory')\n",
    "\n",
    "\n",
    "source(\"CHI_CommAreas_Census2010_base.R\")\n",
    "source(\"CHI_CommAreas_Census2010_dplyr.R\")\n",
    "source(\"CHI_CommAreas_Census2010_datatable.R\")\n"
   ]
  },
  {
   "cell_type": "markdown",
   "metadata": {},
   "source": [
    "## Benchmark Results\n",
    "\n",
    "### Extract"
   ]
  },
  {
   "cell_type": "code",
   "execution_count": 4,
   "metadata": {},
   "outputs": [
    {
     "data": {
      "text/html": [
       "<table>\n",
       "<thead><tr><th scope=col>expr</th><th scope=col>min</th><th scope=col>lq</th><th scope=col>mean</th><th scope=col>median</th><th scope=col>uq</th><th scope=col>max</th><th scope=col>neval</th><th scope=col>cld</th></tr></thead>\n",
       "<tbody>\n",
       "\t<tr><td>base_extract_fct  </td><td>29                </td><td>30                </td><td>37.60             </td><td>31                </td><td>31                </td><td> 740              </td><td>100               </td><td>a                 </td></tr>\n",
       "\t<tr><td>dplyr_extract_fct </td><td>28                </td><td>30                </td><td>34.85             </td><td>31                </td><td>31                </td><td> 450              </td><td>100               </td><td>a                 </td></tr>\n",
       "\t<tr><td>dtable_extract_fct</td><td>29                </td><td>30                </td><td>46.61             </td><td>31                </td><td>31                </td><td>1627              </td><td>100               </td><td>a                 </td></tr>\n",
       "</tbody>\n",
       "</table>\n"
      ],
      "text/latex": [
       "\\begin{tabular}{r|lllllllll}\n",
       " expr & min & lq & mean & median & uq & max & neval & cld\\\\\n",
       "\\hline\n",
       "\t base\\_extract\\_fct   & 29                     & 30                     & 37.60                  & 31                     & 31                     &  740                   & 100                    & a                     \\\\\n",
       "\t dplyr\\_extract\\_fct  & 28                     & 30                     & 34.85                  & 31                     & 31                     &  450                   & 100                    & a                     \\\\\n",
       "\t dtable\\_extract\\_fct & 29                     & 30                     & 46.61                  & 31                     & 31                     & 1627                   & 100                    & a                     \\\\\n",
       "\\end{tabular}\n"
      ],
      "text/markdown": [
       "\n",
       "expr | min | lq | mean | median | uq | max | neval | cld | \n",
       "|---|---|---|\n",
       "| base_extract_fct   | 29                 | 30                 | 37.60              | 31                 | 31                 |  740               | 100                | a                  | \n",
       "| dplyr_extract_fct  | 28                 | 30                 | 34.85              | 31                 | 31                 |  450               | 100                | a                  | \n",
       "| dtable_extract_fct | 29                 | 30                 | 46.61              | 31                 | 31                 | 1627               | 100                | a                  | \n",
       "\n",
       "\n"
      ],
      "text/plain": [
       "  expr               min lq mean  median uq max  neval cld\n",
       "1 base_extract_fct   29  30 37.60 31     31  740 100   a  \n",
       "2 dplyr_extract_fct  28  30 34.85 31     31  450 100   a  \n",
       "3 dtable_extract_fct 29  30 46.61 31     31 1627 100   a  "
      ]
     },
     "metadata": {},
     "output_type": "display_data"
    }
   ],
   "source": [
    "summary(microbenchmark(base_extract_fct, dplyr_extract_fct, dtable_extract_fct))\n"
   ]
  },
  {
   "cell_type": "markdown",
   "metadata": {},
   "source": [
    "### Reshape"
   ]
  },
  {
   "cell_type": "code",
   "execution_count": 7,
   "metadata": {},
   "outputs": [
    {
     "data": {
      "text/html": [
       "<table>\n",
       "<thead><tr><th scope=col>expr</th><th scope=col>min</th><th scope=col>lq</th><th scope=col>mean</th><th scope=col>median</th><th scope=col>uq</th><th scope=col>max</th><th scope=col>neval</th><th scope=col>cld</th></tr></thead>\n",
       "<tbody>\n",
       "\t<tr><td>base_reshape_fct  </td><td>34                </td><td>39                </td><td> 55.40            </td><td>43                </td><td>47                </td><td>  867             </td><td>100               </td><td>a                 </td></tr>\n",
       "\t<tr><td>dplyr_reshape_fct </td><td>34                </td><td>38                </td><td> 53.68            </td><td>41                </td><td>45                </td><td>  755             </td><td>100               </td><td>a                 </td></tr>\n",
       "\t<tr><td>dtable_reshape_fct</td><td>34                </td><td>38                </td><td>981.60            </td><td>42                </td><td>46                </td><td>90909             </td><td>100               </td><td>a                 </td></tr>\n",
       "</tbody>\n",
       "</table>\n"
      ],
      "text/latex": [
       "\\begin{tabular}{r|lllllllll}\n",
       " expr & min & lq & mean & median & uq & max & neval & cld\\\\\n",
       "\\hline\n",
       "\t base\\_reshape\\_fct   & 34                     & 39                     &  55.40                 & 43                     & 47                     &   867                  & 100                    & a                     \\\\\n",
       "\t dplyr\\_reshape\\_fct  & 34                     & 38                     &  53.68                 & 41                     & 45                     &   755                  & 100                    & a                     \\\\\n",
       "\t dtable\\_reshape\\_fct & 34                     & 38                     & 981.60                 & 42                     & 46                     & 90909                  & 100                    & a                     \\\\\n",
       "\\end{tabular}\n"
      ],
      "text/markdown": [
       "\n",
       "expr | min | lq | mean | median | uq | max | neval | cld | \n",
       "|---|---|---|\n",
       "| base_reshape_fct   | 34                 | 39                 |  55.40             | 43                 | 47                 |   867              | 100                | a                  | \n",
       "| dplyr_reshape_fct  | 34                 | 38                 |  53.68             | 41                 | 45                 |   755              | 100                | a                  | \n",
       "| dtable_reshape_fct | 34                 | 38                 | 981.60             | 42                 | 46                 | 90909              | 100                | a                  | \n",
       "\n",
       "\n"
      ],
      "text/plain": [
       "  expr               min lq mean   median uq max   neval cld\n",
       "1 base_reshape_fct   34  39  55.40 43     47   867 100   a  \n",
       "2 dplyr_reshape_fct  34  38  53.68 41     45   755 100   a  \n",
       "3 dtable_reshape_fct 34  38 981.60 42     46 90909 100   a  "
      ]
     },
     "metadata": {},
     "output_type": "display_data"
    }
   ],
   "source": [
    "summary(microbenchmark(base_reshape_fct, dplyr_reshape_fct, dtable_reshape_fct))\n"
   ]
  },
  {
   "cell_type": "markdown",
   "metadata": {},
   "source": [
    "### Summarize"
   ]
  },
  {
   "cell_type": "code",
   "execution_count": 9,
   "metadata": {},
   "outputs": [
    {
     "data": {
      "text/html": [
       "<table>\n",
       "<thead><tr><th scope=col>expr</th><th scope=col>min</th><th scope=col>lq</th><th scope=col>mean</th><th scope=col>median</th><th scope=col>uq</th><th scope=col>max</th><th scope=col>neval</th><th scope=col>cld</th></tr></thead>\n",
       "<tbody>\n",
       "\t<tr><td>base_summarize_fct  </td><td>29                  </td><td>31                  </td><td>814.85              </td><td>33                  </td><td>34                  </td><td>77753               </td><td>100                 </td><td>a                   </td></tr>\n",
       "\t<tr><td>dplyr_summarize_fct </td><td>32                  </td><td>41                  </td><td> 63.81              </td><td>42                  </td><td>43                  </td><td> 2179               </td><td>100                 </td><td>a                   </td></tr>\n",
       "\t<tr><td>dtable_summarize_fct</td><td>29                  </td><td>31                  </td><td> 38.51              </td><td>32                  </td><td>34                  </td><td>  556               </td><td>100                 </td><td>a                   </td></tr>\n",
       "</tbody>\n",
       "</table>\n"
      ],
      "text/latex": [
       "\\begin{tabular}{r|lllllllll}\n",
       " expr & min & lq & mean & median & uq & max & neval & cld\\\\\n",
       "\\hline\n",
       "\t base\\_summarize\\_fct   & 29                       & 31                       & 814.85                   & 33                       & 34                       & 77753                    & 100                      & a                       \\\\\n",
       "\t dplyr\\_summarize\\_fct  & 32                       & 41                       &  63.81                   & 42                       & 43                       &  2179                    & 100                      & a                       \\\\\n",
       "\t dtable\\_summarize\\_fct & 29                       & 31                       &  38.51                   & 32                       & 34                       &   556                    & 100                      & a                       \\\\\n",
       "\\end{tabular}\n"
      ],
      "text/markdown": [
       "\n",
       "expr | min | lq | mean | median | uq | max | neval | cld | \n",
       "|---|---|---|\n",
       "| base_summarize_fct   | 29                   | 31                   | 814.85               | 33                   | 34                   | 77753                | 100                  | a                    | \n",
       "| dplyr_summarize_fct  | 32                   | 41                   |  63.81               | 42                   | 43                   |  2179                | 100                  | a                    | \n",
       "| dtable_summarize_fct | 29                   | 31                   |  38.51               | 32                   | 34                   |   556                | 100                  | a                    | \n",
       "\n",
       "\n"
      ],
      "text/plain": [
       "  expr                 min lq mean   median uq max   neval cld\n",
       "1 base_summarize_fct   29  31 814.85 33     34 77753 100   a  \n",
       "2 dplyr_summarize_fct  32  41  63.81 42     43  2179 100   a  \n",
       "3 dtable_summarize_fct 29  31  38.51 32     34   556 100   a  "
      ]
     },
     "metadata": {},
     "output_type": "display_data"
    }
   ],
   "source": [
    "summary(microbenchmark(base_summarize_fct, dplyr_summarize_fct, dtable_summarize_fct))\n"
   ]
  },
  {
   "cell_type": "markdown",
   "metadata": {},
   "source": [
    "### Graphing"
   ]
  },
  {
   "cell_type": "code",
   "execution_count": 35,
   "metadata": {},
   "outputs": [
    {
     "data": {
      "text/html": [
       "<table>\n",
       "<thead><tr><th scope=col>expr</th><th scope=col>min</th><th scope=col>lq</th><th scope=col>mean</th><th scope=col>median</th><th scope=col>uq</th><th scope=col>max</th><th scope=col>neval</th><th scope=col>cld</th></tr></thead>\n",
       "<tbody>\n",
       "\t<tr><td>base_graphing_fct  </td><td>29                 </td><td>31                 </td><td>44.09              </td><td>33.5               </td><td>34                 </td><td>1162               </td><td>100                </td><td>a                  </td></tr>\n",
       "\t<tr><td>dplyr_graphing_fct </td><td>29                 </td><td>30                 </td><td>51.42              </td><td>31.0               </td><td>31                 </td><td>2108               </td><td>100                </td><td>a                  </td></tr>\n",
       "\t<tr><td>dtable_graphing_fct</td><td>28                 </td><td>30                 </td><td>37.71              </td><td>31.0               </td><td>31                 </td><td> 710               </td><td>100                </td><td>a                  </td></tr>\n",
       "</tbody>\n",
       "</table>\n"
      ],
      "text/latex": [
       "\\begin{tabular}{r|lllllllll}\n",
       " expr & min & lq & mean & median & uq & max & neval & cld\\\\\n",
       "\\hline\n",
       "\t base\\_graphing\\_fct   & 29                      & 31                      & 44.09                   & 33.5                    & 34                      & 1162                    & 100                     & a                      \\\\\n",
       "\t dplyr\\_graphing\\_fct  & 29                      & 30                      & 51.42                   & 31.0                    & 31                      & 2108                    & 100                     & a                      \\\\\n",
       "\t dtable\\_graphing\\_fct & 28                      & 30                      & 37.71                   & 31.0                    & 31                      &  710                    & 100                     & a                      \\\\\n",
       "\\end{tabular}\n"
      ],
      "text/markdown": [
       "\n",
       "expr | min | lq | mean | median | uq | max | neval | cld | \n",
       "|---|---|---|\n",
       "| base_graphing_fct   | 29                  | 31                  | 44.09               | 33.5                | 34                  | 1162                | 100                 | a                   | \n",
       "| dplyr_graphing_fct  | 29                  | 30                  | 51.42               | 31.0                | 31                  | 2108                | 100                 | a                   | \n",
       "| dtable_graphing_fct | 28                  | 30                  | 37.71               | 31.0                | 31                  |  710                | 100                 | a                   | \n",
       "\n",
       "\n"
      ],
      "text/plain": [
       "  expr                min lq mean  median uq max  neval cld\n",
       "1 base_graphing_fct   29  31 44.09 33.5   34 1162 100   a  \n",
       "2 dplyr_graphing_fct  29  30 51.42 31.0   31 2108 100   a  \n",
       "3 dtable_graphing_fct 28  30 37.71 31.0   31  710 100   a  "
      ]
     },
     "metadata": {},
     "output_type": "display_data"
    }
   ],
   "source": [
    "summary(microbenchmark(base_graphing_fct, dplyr_graphing_fct, dtable_graphing_fct))"
   ]
  },
  {
   "cell_type": "markdown",
   "metadata": {},
   "source": [
    "### Python Pandas Results"
   ]
  },
  {
   "cell_type": "code",
   "execution_count": 10,
   "metadata": {},
   "outputs": [
    {
     "data": {
      "text/html": [
       "<table>\n",
       "<thead><tr><th></th><th scope=col>expr</th><th scope=col>min</th><th scope=col>lq</th><th scope=col>median</th><th scope=col>uq</th><th scope=col>max</th><th scope=col>neval</th></tr></thead>\n",
       "<tbody>\n",
       "\t<tr><th scope=row>2</th><td>extract_fct()  </td><td>9.14526e+06    </td><td>9.14526e+06    </td><td>9.14526e+06    </td><td>9.14526e+06    </td><td>9.14526e+06    </td><td>1              </td></tr>\n",
       "\t<tr><th scope=row>3</th><td>reshape_fct()  </td><td>7.3743e+08     </td><td>7.3743e+08     </td><td>7.3743e+08     </td><td>7.3743e+08     </td><td>7.3743e+08     </td><td>1              </td></tr>\n",
       "\t<tr><th scope=row>4</th><td>summarize_fct()</td><td>4.01404e+07    </td><td>4.01404e+07    </td><td>4.01404e+07    </td><td>4.01404e+07    </td><td>4.01404e+07    </td><td>1              </td></tr>\n",
       "\t<tr><th scope=row>5</th><td>graphing_fct() </td><td>1.03818e+10    </td><td>1.03818e+10    </td><td>1.03818e+10    </td><td>1.03818e+10    </td><td>1.03818e+10    </td><td>1              </td></tr>\n",
       "</tbody>\n",
       "</table>\n"
      ],
      "text/latex": [
       "\\begin{tabular}{r|lllllll}\n",
       "  & expr & min & lq & median & uq & max & neval\\\\\n",
       "\\hline\n",
       "\t2 & extract\\_fct()   & 9.14526e+06       & 9.14526e+06       & 9.14526e+06       & 9.14526e+06       & 9.14526e+06       & 1                \\\\\n",
       "\t3 & reshape\\_fct()   & 7.3743e+08        & 7.3743e+08        & 7.3743e+08        & 7.3743e+08        & 7.3743e+08        & 1                \\\\\n",
       "\t4 & summarize\\_fct() & 4.01404e+07       & 4.01404e+07       & 4.01404e+07       & 4.01404e+07       & 4.01404e+07       & 1                \\\\\n",
       "\t5 & graphing\\_fct()  & 1.03818e+10       & 1.03818e+10       & 1.03818e+10       & 1.03818e+10       & 1.03818e+10       & 1                \\\\\n",
       "\\end{tabular}\n"
      ],
      "text/markdown": [
       "\n",
       "| <!--/--> | expr | min | lq | median | uq | max | neval | \n",
       "|---|---|---|---|\n",
       "| 2 | extract_fct()   | 9.14526e+06     | 9.14526e+06     | 9.14526e+06     | 9.14526e+06     | 9.14526e+06     | 1               | \n",
       "| 3 | reshape_fct()   | 7.3743e+08      | 7.3743e+08      | 7.3743e+08      | 7.3743e+08      | 7.3743e+08      | 1               | \n",
       "| 4 | summarize_fct() | 4.01404e+07     | 4.01404e+07     | 4.01404e+07     | 4.01404e+07     | 4.01404e+07     | 1               | \n",
       "| 5 | graphing_fct()  | 1.03818e+10     | 1.03818e+10     | 1.03818e+10     | 1.03818e+10     | 1.03818e+10     | 1               | \n",
       "\n",
       "\n"
      ],
      "text/plain": [
       "  expr            min         lq          median      uq          max        \n",
       "2 extract_fct()   9.14526e+06 9.14526e+06 9.14526e+06 9.14526e+06 9.14526e+06\n",
       "3 reshape_fct()   7.3743e+08  7.3743e+08  7.3743e+08  7.3743e+08  7.3743e+08 \n",
       "4 summarize_fct() 4.01404e+07 4.01404e+07 4.01404e+07 4.01404e+07 4.01404e+07\n",
       "5 graphing_fct()  1.03818e+10 1.03818e+10 1.03818e+10 1.03818e+10 1.03818e+10\n",
       "  neval\n",
       "2 1    \n",
       "3 1    \n",
       "4 1    \n",
       "5 1    "
      ]
     },
     "metadata": {},
     "output_type": "display_data"
    }
   ],
   "source": [
    "txt = system(\"python3 -W ignore /path/to/working/directory/CHI_Comm_Areas_Benchmark.py\", intern=TRUE)\n",
    "\n",
    "read.table(text=txt, header=TRUE)[-1,]"
   ]
  },
  {
   "cell_type": "markdown",
   "metadata": {},
   "source": [
    "## Box Plots"
   ]
  },
  {
   "cell_type": "code",
   "execution_count": 12,
   "metadata": {},
   "outputs": [
    {
     "data": {
      "image/png": "[encoded data removed]",
      "text/plain": [
       "plot without title"
      ]
     },
     "metadata": {},
     "output_type": "display_data"
    }
   ],
   "source": [
    "res <- microbenchmark(base_extract_fct, dplyr_extract_fct, dtable_extract_fct)\n",
    "\n",
    "boxplot(res,outline=FALSE)"
   ]
  },
  {
   "cell_type": "code",
   "execution_count": 15,
   "metadata": {},
   "outputs": [
    {
     "data": {
      "image/png": "[encoded data removed]",
      "text/plain": [
       "plot without title"
      ]
     },
     "metadata": {},
     "output_type": "display_data"
    }
   ],
   "source": [
    "res <- microbenchmark(base_reshape_fct, dplyr_reshape_fct, dtable_reshape_fct)\n",
    "\n",
    "boxplot(res, outline=FALSE)"
   ]
  },
  {
   "cell_type": "code",
   "execution_count": 20,
   "metadata": {},
   "outputs": [
    {
     "data": {
      "image/png": "[encoded data removed]",
      "text/plain": [
       "plot without title"
      ]
     },
     "metadata": {},
     "output_type": "display_data"
    }
   ],
   "source": [
    "res <- microbenchmark(base_summarize_fct, dplyr_summarize_fct, dtable_summarize_fct)\n",
    "\n",
    "boxplot(res,outline=FALSE)"
   ]
  },
  {
   "cell_type": "code",
   "execution_count": 21,
   "metadata": {},
   "outputs": [
    {
     "data": {
      "image/png": "[encoded data removed]",
      "text/plain": [
       "plot without title"
      ]
     },
     "metadata": {},
     "output_type": "display_data"
    }
   ],
   "source": [
    "res <- microbenchmark(base_graphing_fct, dplyr_graphing_fct, dtable_graphing_fct)\n",
    "\n",
    "boxplot(res,outline=FALSE)"
   ]
  },
  {
   "cell_type": "code",
   "execution_count": null,
   "metadata": {},
   "outputs": [],
   "source": []
  }
 ],
 "metadata": {
  "kernelspec": {
   "display_name": "R",
   "language": "R",
   "name": "ir"
  },
  "language_info": {
   "codemirror_mode": "r",
   "file_extension": ".r",
   "mimetype": "text/x-r-source",
   "name": "R",
   "pygments_lexer": "r",
   "version": "3.2.3"
  }
 },
 "nbformat": 4,
 "nbformat_minor": 2
}
