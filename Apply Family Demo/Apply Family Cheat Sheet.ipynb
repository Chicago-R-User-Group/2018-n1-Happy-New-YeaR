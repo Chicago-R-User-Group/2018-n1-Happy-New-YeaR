{
 "cells": [
  {
   "cell_type": "markdown",
   "metadata": {},
   "source": [
    "## Apply Family Cheat Sheet\n",
    "\n",
    "Common use cases of Base R operations that can be streamlined with apply family functions"
   ]
  },
  {
   "cell_type": "markdown",
   "metadata": {},
   "source": [
    "### Initialize Empty List and Expand in Loop => LAPPLY"
   ]
  },
  {
   "cell_type": "code",
   "execution_count": null,
   "metadata": {},
   "outputs": [],
   "source": [
    "# EXPAND LIST IN FOR LOOP\n",
    "items <- list()\n",
    "\n",
    "for (i in vector1){\n",
    "    val <- ...\n",
    "    items <- c(items, val)\n",
    "}\n"
   ]
  },
  {
   "cell_type": "code",
   "execution_count": null,
   "metadata": {},
   "outputs": [],
   "source": [
    "# LAPPLY\n",
    "items <- lapply(vector1, function(i) ...)"
   ]
  },
  {
   "cell_type": "markdown",
   "metadata": {},
   "source": [
    "### Nested For Loop (usually across rows and columns) => SAPPLY"
   ]
  },
  {
   "cell_type": "code",
   "execution_count": null,
   "metadata": {},
   "outputs": [],
   "source": [
    "# NESTED FOR LOOPS\n",
    "for (i in vector1) {\n",
    "     for (j in vector2) {\n",
    "         ...\n",
    "     }\n",
    "}"
   ]
  },
  {
   "cell_type": "code",
   "execution_count": null,
   "metadata": {},
   "outputs": [],
   "source": [
    "# SAPPLY WITH MULTIPLE INPUTS\n",
    "sapply(vector1, function(i, j) ..., vector2)"
   ]
  },
  {
   "cell_type": "markdown",
   "metadata": {},
   "source": [
    "### Converting type after function process => VAPPLY"
   ]
  },
  {
   "cell_type": "code",
   "execution_count": null,
   "metadata": {},
   "outputs": [],
   "source": [
    "output_vector <- as.numeric(unlist(lapply(vector1, function(i)...)))\n",
    "                                   \n",
    "output_vector <- as.numeric(sapply(vector1, function(i)...))"
   ]
  },
  {
   "cell_type": "code",
   "execution_count": null,
   "metadata": {},
   "outputs": [],
   "source": [
    "# VAPPLY\n",
    "output_vector <- vapply(vector1, function(i)..., numeric(1))"
   ]
  },
  {
   "cell_type": "markdown",
   "metadata": {},
   "source": [
    "### Unlist after Lapply => SAPPLY/VAPPLY"
   ]
  },
  {
   "cell_type": "code",
   "execution_count": null,
   "metadata": {},
   "outputs": [],
   "source": [
    "output_vector <- unlist(lapply(vector1, function(i) ...))"
   ]
  },
  {
   "cell_type": "code",
   "execution_count": null,
   "metadata": {},
   "outputs": [],
   "source": [
    "# SAPPLY\n",
    "output_vector <- sapply(vector1, function(i) ...)\n",
    "\n",
    "# OR\n",
    "\n",
    "# VAPPLY\n",
    "output_vector <- vapply(vector1, function(i) ..., numeric(1))                     "
   ]
  },
  {
   "cell_type": "markdown",
   "metadata": {},
   "source": [
    "### Looping through rows across multiple columns => MAPPLY"
   ]
  },
  {
   "cell_type": "code",
   "execution_count": null,
   "metadata": {},
   "outputs": [],
   "source": [
    "output_vector <- vector()\n",
    "\n",
    "for (i in 1:nrow(df)){\n",
    "    val <- some_func(df$Column1[[i]], df$Column1[[i]])\n",
    "    output_vector <- c(output_vector, val)\n",
    "}"
   ]
  },
  {
   "cell_type": "code",
   "execution_count": null,
   "metadata": {},
   "outputs": [],
   "source": [
    "# MAPPLY\n",
    "output_vector <- mapply(some_func, df$Column1, df$Column2)"
   ]
  },
  {
   "cell_type": "markdown",
   "metadata": {},
   "source": [
    "### Plotting by same factors => TAPPLY"
   ]
  },
  {
   "cell_type": "code",
   "execution_count": null,
   "metadata": {},
   "outputs": [],
   "source": [
    "for (i in df$group) {\n",
    "  boxplot(df$numeric_column[which(df$group == i)])\n",
    "}"
   ]
  },
  {
   "cell_type": "code",
   "execution_count": null,
   "metadata": {},
   "outputs": [],
   "source": [
    "# TAPPLY\n",
    "tapply(df$numeric_column, df$group, FUN=boxplot)"
   ]
  },
  {
   "cell_type": "markdown",
   "metadata": {},
   "source": [
    "### Subsetting a dataframe by groups => BY (i.e., TAPPLY wrapper)"
   ]
  },
  {
   "cell_type": "code",
   "execution_count": null,
   "metadata": {},
   "outputs": [],
   "source": [
    "unique_vector <- unique(df$group)\n",
    "\n",
    "dfList <- list()\n",
    "\n",
    "for (i in unique_vector) {\n",
    "    dfList[i] <- df[df$group = i]\n",
    ")\n",
    "\n",
    "# OR    \n",
    "    \n",
    "dfList <- lapply(unique_vector) function(i)\n",
    "    df[df$group = i]\n",
    ")"
   ]
  },
  {
   "cell_type": "code",
   "execution_count": null,
   "metadata": {},
   "outputs": [],
   "source": [
    "# BY\n",
    "dfList <- by(df, df$group, FUN=function(i) i)\n",
    "\n",
    "# OR\n",
    "             \n",
    "# SPLIT\n",
    "dfList <- split(df, df$group)"
   ]
  },
  {
   "cell_type": "markdown",
   "metadata": {},
   "source": [
    "### Iterating through Environment Objects by Name => EAPPLY"
   ]
  },
  {
   "cell_type": "code",
   "execution_count": null,
   "metadata": {},
   "outputs": [],
   "source": [
    "objects_list <- lapply(ls(), function(i) get(i))"
   ]
  },
  {
   "cell_type": "code",
   "execution_count": null,
   "metadata": {},
   "outputs": [],
   "source": [
    "# EAPPLY\n",
    "objects_list <- eapply(.GlobalEnv, function(i) i)\n",
    "                       \n",
    "# OR     \n",
    "                       \n",
    "# MGET\n",
    "objects_list <- mget(ls())"
   ]
  },
  {
   "cell_type": "markdown",
   "metadata": {},
   "source": [
    "### Nested Lapply for Matrix Output => RAPPLY"
   ]
  },
  {
   "cell_type": "code",
   "execution_count": null,
   "metadata": {},
   "outputs": [],
   "source": [
    "output_matrix <- lapply(nested_input_list, function(i){\n",
    "  lapply(i, function(df){         \n",
    "    cbind(mean(as.numeric(df[,1])),\n",
    "          mean(as.numeric(df[,2])))        \n",
    "  })\n",
    "})"
   ]
  },
  {
   "cell_type": "code",
   "execution_count": null,
   "metadata": {},
   "outputs": [],
   "source": [
    "# RAPPLY\n",
    "output_matrix <- rapply(nested_input_list, function(i){      \n",
    "  cbind(mean(as.numeric(i[,1])),\n",
    "        mean(as.numeric(i[,2])))      \n",
    "}, classes = \"matrix\", how = \"list\")"
   ]
  }
 ],
 "metadata": {
  "kernelspec": {
   "display_name": "R",
   "language": "R",
   "name": "ir"
  },
  "language_info": {
   "codemirror_mode": "r",
   "file_extension": ".r",
   "mimetype": "text/x-r-source",
   "name": "R",
   "pygments_lexer": "r",
   "version": "3.2.3"
  }
 },
 "nbformat": 4,
 "nbformat_minor": 2
}
